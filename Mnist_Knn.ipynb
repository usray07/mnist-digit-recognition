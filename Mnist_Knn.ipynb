{
  "nbformat": 4,
  "nbformat_minor": 0,
  "metadata": {
    "colab": {
      "name": "Mnist Knn.ipynb",
      "provenance": [],
      "collapsed_sections": []
    },
    "kernelspec": {
      "display_name": "Python 3",
      "name": "python3"
    },
    "language_info": {
      "name": "python"
    }
  },
  "cells": [
    {
      "cell_type": "code",
      "metadata": {
        "id": "XqfNfMEUIiUa"
      },
      "source": [
        "import numpy as np\n",
        "import pandas as pd\n",
        "import matplotlib.pyplot as plt\n",
        "from sklearn.neighbors import KNeighborsClassifier\n",
        "from sklearn.metrics import confusion_matrix, accuracy_score\n",
        "from sklearn.metrics import classification_report\n",
        "import pickle \n",
        "import gzip\n",
        "import random"
      ],
      "execution_count": null,
      "outputs": []
    },
    {
      "cell_type": "code",
      "metadata": {
        "colab": {
          "base_uri": "https://localhost:8080/"
        },
        "id": "rQBx2h4qVF2p",
        "outputId": "683a869d-5d40-4f43-fa37-dde432d85655"
      },
      "source": [
        "from google.colab import drive\n",
        "drive.mount('/content/drive')"
      ],
      "execution_count": null,
      "outputs": [
        {
          "output_type": "stream",
          "text": [
            "Mounted at /content/drive\n"
          ],
          "name": "stdout"
        }
      ]
    },
    {
      "cell_type": "code",
      "metadata": {
        "id": "DaR9lDkNIjT8"
      },
      "source": [
        "def load_mnist(filename, type, n_datapoints):\n",
        "    # MNIST Images have 28*28 pixels dimension\n",
        "    image_size = 28\n",
        "    f = gzip.open(filename)\n",
        "    \n",
        "    if(type == 'image'):\n",
        "        f.read(16)    # Skip Non-Image information\n",
        "        buf = f.read(n_datapoints * image_size * image_size)\n",
        "        data = np.frombuffer(buf, dtype=np.uint8).astype(np.float32)\n",
        "        data = data.reshape(n_datapoints, image_size, image_size, 1)\n",
        "    elif(type == 'label'):\n",
        "        f.read(8) # Skip Inessential information\n",
        "        buf = f.read(n_datapoints)\n",
        "        data = np.frombuffer(buf, dtype=np.uint8).astype(np.int64)\n",
        "        data = data.reshape(n_datapoints, 1)\n",
        "    return data"
      ],
      "execution_count": null,
      "outputs": []
    },
    {
      "cell_type": "code",
      "metadata": {
        "colab": {
          "base_uri": "https://localhost:8080/",
          "height": 316
        },
        "id": "B7jUA-ZPYZcn",
        "outputId": "7b5e28c4-da51-45ed-c21c-673aed58d261"
      },
      "source": [
        "index = random.randint(0, train_size)\n",
        "print('Index: ', index)\n",
        "print('Training Set: ')\n",
        "print('Label:', y[index])\n",
        "img = np.asarray(X[index]).squeeze()\n",
        "plt.imshow(img)\n",
        "plt.show()"
      ],
      "execution_count": null,
      "outputs": [
        {
          "output_type": "stream",
          "text": [
            "Index:  57319\n",
            "Training Set: \n",
            "Label: [2]\n"
          ],
          "name": "stdout"
        },
        {
          "output_type": "display_data",
          "data": {
            "image/png": "[encoded data removed]",
            "text/plain": [
              "<Figure size 432x288 with 1 Axes>"
            ]
          },
          "metadata": {
            "tags": []
          }
        }
      ]
    },
    {
      "cell_type": "code",
      "metadata": {
        "id": "LxgJ8f3OJN8O"
      },
      "source": [
        "train_size = 60000\n",
        "test_size = 10000\n",
        "dirpath = '/content/drive/MyDrive/Projects/Digit Recognition/'\n",
        "#/content/drive/MyDrive/Projects/Digit Recognition/train-images-idx3-ubyte.gz\n",
        "X = load_mnist(dirpath + 'train-images-idx3-ubyte.gz', 'image', train_size)\n",
        "y = load_mnist(dirpath + 'train-labels-idx1-ubyte.gz', 'label', train_size)\n",
        "X_test = load_mnist(dirpath + 't10k-images-idx3-ubyte.gz', 'image', test_size)\n",
        "y_test = load_mnist(dirpath + 't10k-labels-idx1-ubyte.gz', 'label', test_size)"
      ],
      "execution_count": null,
      "outputs": []
    },
    {
      "cell_type": "code",
      "metadata": {
        "colab": {
          "base_uri": "https://localhost:8080/"
        },
        "id": "07hid460PGyF",
        "outputId": "b4719fb2-429a-4c59-87ca-150580572b0a"
      },
      "source": [
        "from sklearn.model_selection import train_test_split\n",
        "X_train, X_valid, y_train, y_valid = train_test_split(X[:(train_size//10)], y[:(train_size//10)], test_size=0.25, random_state=28)\n",
        "print(X_train.shape, X_valid.shape, y_train.shape, y_valid.shape)"
      ],
      "execution_count": null,
      "outputs": [
        {
          "output_type": "stream",
          "text": [
            "(4500, 28, 28, 1) (1500, 28, 28, 1) (4500, 1) (1500, 1)\n"
          ],
          "name": "stdout"
        }
      ]
    },
    {
      "cell_type": "markdown",
      "metadata": {
        "id": "MWAyjkPxNYLa"
      },
      "source": [
        "\n",
        "# KNN Classifier , k value testing\n"
      ]
    },
    {
      "cell_type": "code",
      "metadata": {
        "colab": {
          "base_uri": "https://localhost:8080/",
          "height": 876
        },
        "id": "EPfH4C6dPZK7",
        "outputId": "00d9550f-d9eb-40ac-ec9b-b0911d7adad3"
      },
      "source": [
        "score = []\n",
        "\n",
        "for k in range(1, 9):\n",
        "  print('Begin KNN with k=',k)\n",
        "  classifier = KNeighborsClassifier(n_neighbors=k)\n",
        "  classifier = classifier.fit(X_train.reshape(X_train.shape[0], 28*28), y_train)\n",
        "  pred = classifier.predict(X_valid.reshape(X_valid.shape[0], 28*28))\n",
        "  accuracy = accuracy_score(y_valid, pred)\n",
        "  score.append(accuracy)\n",
        "  print(\"Accuracy: \",accuracy)\n",
        "\n",
        "plt.plot(range(1,9),score)\n",
        "plt.xlabel('K -Values')\n",
        "plt.ylabel('Accuracy')\n",
        "plt.title('Testing for best K nearest neighbours')"
      ],
      "execution_count": null,
      "outputs": [
        {
          "output_type": "stream",
          "text": [
            "Begin KNN with k= 1\n"
          ],
          "name": "stdout"
        },
        {
          "output_type": "stream",
          "text": [
            "/usr/local/lib/python3.7/dist-packages/ipykernel_launcher.py:6: DataConversionWarning: A column-vector y was passed when a 1d array was expected. Please change the shape of y to (n_samples, ), for example using ravel().\n",
            "  \n"
          ],
          "name": "stderr"
        },
        {
          "output_type": "stream",
          "text": [
            "Accuracy:  0.9506666666666667\n",
            "Begin KNN with k= 2\n"
          ],
          "name": "stdout"
        },
        {
          "output_type": "stream",
          "text": [
            "/usr/local/lib/python3.7/dist-packages/ipykernel_launcher.py:6: DataConversionWarning: A column-vector y was passed when a 1d array was expected. Please change the shape of y to (n_samples, ), for example using ravel().\n",
            "  \n"
          ],
          "name": "stderr"
        },
        {
          "output_type": "stream",
          "text": [
            "Accuracy:  0.9266666666666666\n",
            "Begin KNN with k= 3\n"
          ],
          "name": "stdout"
        },
        {
          "output_type": "stream",
          "text": [
            "/usr/local/lib/python3.7/dist-packages/ipykernel_launcher.py:6: DataConversionWarning: A column-vector y was passed when a 1d array was expected. Please change the shape of y to (n_samples, ), for example using ravel().\n",
            "  \n"
          ],
          "name": "stderr"
        },
        {
          "output_type": "stream",
          "text": [
            "Accuracy:  0.938\n",
            "Begin KNN with k= 4\n"
          ],
          "name": "stdout"
        },
        {
          "output_type": "stream",
          "text": [
            "/usr/local/lib/python3.7/dist-packages/ipykernel_launcher.py:6: DataConversionWarning: A column-vector y was passed when a 1d array was expected. Please change the shape of y to (n_samples, ), for example using ravel().\n",
            "  \n"
          ],
          "name": "stderr"
        },
        {
          "output_type": "stream",
          "text": [
            "Accuracy:  0.9386666666666666\n",
            "Begin KNN with k= 5\n"
          ],
          "name": "stdout"
        },
        {
          "output_type": "stream",
          "text": [
            "/usr/local/lib/python3.7/dist-packages/ipykernel_launcher.py:6: DataConversionWarning: A column-vector y was passed when a 1d array was expected. Please change the shape of y to (n_samples, ), for example using ravel().\n",
            "  \n"
          ],
          "name": "stderr"
        },
        {
          "output_type": "stream",
          "text": [
            "Accuracy:  0.9393333333333334\n",
            "Begin KNN with k= 6\n"
          ],
          "name": "stdout"
        },
        {
          "output_type": "stream",
          "text": [
            "/usr/local/lib/python3.7/dist-packages/ipykernel_launcher.py:6: DataConversionWarning: A column-vector y was passed when a 1d array was expected. Please change the shape of y to (n_samples, ), for example using ravel().\n",
            "  \n"
          ],
          "name": "stderr"
        },
        {
          "output_type": "stream",
          "text": [
            "Accuracy:  0.94\n",
            "Begin KNN with k= 7\n"
          ],
          "name": "stdout"
        },
        {
          "output_type": "stream",
          "text": [
            "/usr/local/lib/python3.7/dist-packages/ipykernel_launcher.py:6: DataConversionWarning: A column-vector y was passed when a 1d array was expected. Please change the shape of y to (n_samples, ), for example using ravel().\n",
            "  \n"
          ],
          "name": "stderr"
        },
        {
          "output_type": "stream",
          "text": [
            "Accuracy:  0.9366666666666666\n",
            "Begin KNN with k= 8\n"
          ],
          "name": "stdout"
        },
        {
          "output_type": "stream",
          "text": [
            "/usr/local/lib/python3.7/dist-packages/ipykernel_launcher.py:6: DataConversionWarning: A column-vector y was passed when a 1d array was expected. Please change the shape of y to (n_samples, ), for example using ravel().\n",
            "  \n"
          ],
          "name": "stderr"
        },
        {
          "output_type": "stream",
          "text": [
            "Accuracy:  0.936\n"
          ],
          "name": "stdout"
        },
        {
          "output_type": "execute_result",
          "data": {
            "text/plain": [
              "Text(0.5, 1.0, 'Testing for best K nearest neighbours')"
            ]
          },
          "metadata": {
            "tags": []
          },
          "execution_count": 8
        },
        {
          "output_type": "display_data",
          "data": {
            "image/png": "[encoded data removed]",
            "text/plain": [
              "<Figure size 432x288 with 1 Axes>"
            ]
          },
          "metadata": {
            "tags": []
          }
        }
      ]
    },
    {
      "cell_type": "code",
      "metadata": {
        "colab": {
          "base_uri": "https://localhost:8080/"
        },
        "id": "PM1DkHI_PgGP",
        "outputId": "abf01170-4b7a-4425-b451-cb1ebc579d2a"
      },
      "source": [
        "%%time\n",
        "print('Training the Model')\n",
        "classifier = KNeighborsClassifier(n_neighbors=6)\n",
        "classifier = classifier.fit(X.reshape(X.shape[0], 28*28), y)\n"
      ],
      "execution_count": null,
      "outputs": [
        {
          "output_type": "stream",
          "text": [
            "Training the Model\n"
          ],
          "name": "stdout"
        },
        {
          "output_type": "stream",
          "text": [
            "/usr/local/lib/python3.7/dist-packages/ipykernel_launcher.py:3: DataConversionWarning: A column-vector y was passed when a 1d array was expected. Please change the shape of y to (n_samples, ), for example using ravel().\n",
            "  This is separate from the ipykernel package so we can avoid doing imports until\n"
          ],
          "name": "stderr"
        },
        {
          "output_type": "stream",
          "text": [
            "CPU times: user 16 s, sys: 105 ms, total: 16.1 s\n",
            "Wall time: 16.1 s\n"
          ],
          "name": "stdout"
        }
      ]
    },
    {
      "cell_type": "code",
      "metadata": {
        "colab": {
          "base_uri": "https://localhost:8080/"
        },
        "id": "ueVdOA1NQIsh",
        "outputId": "e3126485-d359-497a-b2de-af6d66224e89"
      },
      "source": [
        "y_pred = classifier.predict(X_test.reshape(X_test.shape[0], 28*28))\n",
        "print(accuracy_score(y_test, y_pred))\n"
      ],
      "execution_count": null,
      "outputs": [
        {
          "output_type": "stream",
          "text": [
            "0.9677\n"
          ],
          "name": "stdout"
        }
      ]
    },
    {
      "cell_type": "code",
      "metadata": {
        "id": "qCOPlAAkTSLK",
        "colab": {
          "base_uri": "https://localhost:8080/"
        },
        "outputId": "4396343b-3605-4bc9-fac1-a3d322730988"
      },
      "source": [
        "import joblib\n",
        "\n",
        "joblib.dump(classifier, 'knn_model.gzip', compress=('gzip',3))"
      ],
      "execution_count": null,
      "outputs": [
        {
          "output_type": "execute_result",
          "data": {
            "text/plain": [
              "['knn_model.gzip']"
            ]
          },
          "metadata": {
            "tags": []
          },
          "execution_count": 9
        }
      ]
    },
    {
      "cell_type": "code",
      "metadata": {
        "id": "w7zce8jYYAzZ"
      },
      "source": [
        ""
      ],
      "execution_count": null,
      "outputs": []
    }
  ]
}